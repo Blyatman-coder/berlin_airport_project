{
 "cells": [
  {
   "cell_type": "markdown",
   "id": "90bcd396-4fb0-44a9-85c2-106505ab38d5",
   "metadata": {},
   "source": [
    "Use geopy package to convert city to long/lat co-ordinates"
   ]
  },
  {
   "cell_type": "code",
   "execution_count": null,
   "id": "c2884228-3afb-467b-b1d2-4f44bde98b69",
   "metadata": {},
   "outputs": [],
   "source": [
    "import requests\n",
    "from geopy.geocoders import Nominatim\n",
    "from geopy.exc import GeocoderTimedOut, GeocoderServiceError\n",
    "import seaborn as sns\n",
    "import matplotlib.pyplot as plt\n",
    "import pandas as pd\n",
    "\n",
    "def get_coordinates(city_name, state_code='', country_code=''):\n",
    "    try:\n",
    "        geolocator = Nominatim(user_agent=\"test_app55345\")\n",
    "        location = city_name\n",
    "        if state_code:\n",
    "            location += f\", {state_code}\"\n",
    "        if country_code:\n",
    "            location += f\", {country_code}\"\n",
    "        location_data = geolocator.geocode(location, timeout=10)\n",
    "        if location_data:\n",
    "            return (location_data.latitude, location_data.longitude)\n",
    "        else:\n",
    "            print(\"Error fetching data: Location not found.\")\n",
    "            return None\n",
    "    except GeocoderTimedOut:\n",
    "        print(\"Geocoder timed out.\")\n",
    "        return None\n",
    "    except GeocoderServiceError as e:\n",
    "        print(f\"Geocoder service error: {e}\")\n",
    "        return None\n",
    "\n",
    "def get_weather(latitude, longitude, api_key):\n",
    "    url = \"http://api.openweathermap.org/data/2.5/weather\"\n",
    "    params = {\n",
    "        'lat': latitude,\n",
    "        'lon': longitude,\n",
    "        'appid': api_key,\n",
    "        'units': 'metric'\n",
    "    }\n",
    "    response = requests.get(url, params=params)\n",
    "    return response.json()\n"
   ]
  },
  {
   "cell_type": "markdown",
   "id": "98f81f78-ca3b-47fe-a1d7-12a636c2c2af",
   "metadata": {},
   "source": [
    "Prompt use for info to convert into"
   ]
  },
  {
   "cell_type": "code",
   "execution_count": 3,
   "id": "8b25782a-7211-4fda-84ea-cced08ce3f5c",
   "metadata": {},
   "outputs": [
    {
     "name": "stdin",
     "output_type": "stream",
     "text": [
      "Enter the city name:  New York\n",
      "Enter the state code (optional):  \n",
      "Enter the country code (optional):  US\n"
     ]
    },
    {
     "name": "stdout",
     "output_type": "stream",
     "text": [
      "Coordinates for New York: (40.7127281, -74.0060152)\n"
     ]
    }
   ],
   "source": [
    "city_name = input(\"Enter the city name: \")\n",
    "state_code = input(\"Enter the state code (optional): \") # Examples: Nashville exists twice in the USA\n",
    "country_code = input(\"Enter the country code (optional): \")\n",
    "\n",
    "coordinates = get_coordinates(city_name, state_code, country_code)\n",
    "\n",
    "if coordinates:\n",
    "    latitude, longitude = coordinates\n",
    "    print(f\"Coordinates for {city_name}: {coordinates}\")\n",
    "else:\n",
    "    print(\"Could not retrieve coordinates.\")\n"
   ]
  },
  {
   "cell_type": "code",
   "execution_count": 4,
   "id": "a8fa3669-989a-47b4-9cbe-a89339379d41",
   "metadata": {},
   "outputs": [
    {
     "name": "stdout",
     "output_type": "stream",
     "text": [
      "Weather data for New York:\n"
     ]
    },
    {
     "data": {
      "text/html": [
       "<div>\n",
       "<style scoped>\n",
       "    .dataframe tbody tr th:only-of-type {\n",
       "        vertical-align: middle;\n",
       "    }\n",
       "\n",
       "    .dataframe tbody tr th {\n",
       "        vertical-align: top;\n",
       "    }\n",
       "\n",
       "    .dataframe thead th {\n",
       "        text-align: right;\n",
       "    }\n",
       "</style>\n",
       "<table border=\"1\" class=\"dataframe\">\n",
       "  <thead>\n",
       "    <tr style=\"text-align: right;\">\n",
       "      <th></th>\n",
       "      <th>Location</th>\n",
       "      <th>Temperature (C)</th>\n",
       "      <th>Temp Min (C)</th>\n",
       "      <th>Temp Max (C)</th>\n",
       "      <th>Wind Speed (m/s)</th>\n",
       "      <th>Weather</th>\n",
       "      <th>Cloudiness (%)</th>\n",
       "      <th>Visibility (m)</th>\n",
       "      <th>Wind Gusts (m/s)</th>\n",
       "    </tr>\n",
       "  </thead>\n",
       "  <tbody>\n",
       "    <tr>\n",
       "      <th>0</th>\n",
       "      <td>New York</td>\n",
       "      <td>32.82</td>\n",
       "      <td>30.19</td>\n",
       "      <td>35.54</td>\n",
       "      <td>3.09</td>\n",
       "      <td>clear sky</td>\n",
       "      <td>0</td>\n",
       "      <td>10000</td>\n",
       "      <td>None</td>\n",
       "    </tr>\n",
       "  </tbody>\n",
       "</table>\n",
       "</div>"
      ],
      "text/plain": [
       "   Location  Temperature (C)  Temp Min (C)  Temp Max (C)  Wind Speed (m/s)  \\\n",
       "0  New York            32.82         30.19         35.54              3.09   \n",
       "\n",
       "     Weather  Cloudiness (%)  Visibility (m) Wind Gusts (m/s)  \n",
       "0  clear sky               0           10000             None  "
      ]
     },
     "metadata": {},
     "output_type": "display_data"
    }
   ],
   "source": [
    "\n",
    "\n",
    "if coordinates is not None: #if co-ordinates don't exist this will fail gracefully\n",
    "    api_key = \"4e30412ac94b951776c9ff58a27ba3bb\"  \n",
    "    weather_data = get_weather(latitude, longitude, api_key)\n",
    "    print(f\"Weather data for {city_name}:\")\n",
    "    # display(weather_data) - for testing\n",
    "    \n",
    "    # Extract relevant data - we can change current to hourly, daily etc.\n",
    "    # current_weather = weather_data['current']\n",
    "    # This is onecall only unfortunately\n",
    "    \n",
    "    weather_info = {\n",
    "        \"Location\": city_name,\n",
    "        \"Temperature (C)\": weather_data['main']['temp'],\n",
    "        \"Temp Min (C)\": weather_data['main']['temp_min'],\n",
    "        \"Temp Max (C)\": weather_data['main']['temp_max'],\n",
    "        \"Wind Speed (m/s)\": weather_data['wind']['speed'],\n",
    "        \"Weather\": weather_data['weather'][0]['description'],\n",
    "        \"Cloudiness (%)\": weather_data['clouds']['all'],\n",
    "        \"Visibility (m)\": weather_data['visibility']\n",
    "    }\n",
    "    \n",
    "    # Wind gusts aren't always available, so we do this:\n",
    "    if 'gust' in weather_data['wind']:\n",
    "        weather_info[\"Wind Gusts (m/s)\"] = weather_data['wind']['gust']\n",
    "    else:\n",
    "        weather_info[\"Wind Gusts (m/s)\"] = None\n",
    "    \n",
    "    # Convert to DataFrame\n",
    "    df = pd.DataFrame([weather_info])\n",
    "    display(df)\n",
    "else:\n",
    "    print(\"Coordinates not available, cannot fetch weather data.\")\n"
   ]
  },
  {
   "cell_type": "markdown",
   "id": "461aed9e-b941-4d94-bf75-92b4cea1f28f",
   "metadata": {},
   "source": [
    "Grabbing Satellite Data from N2YO"
   ]
  },
  {
   "cell_type": "code",
   "execution_count": 5,
   "id": "fa14e499-f5b5-45c6-bd83-5b9b78c9e73d",
   "metadata": {},
   "outputs": [
    {
     "name": "stdout",
     "output_type": "stream",
     "text": [
      "Number of visible GPS satellites: 10\n"
     ]
    },
    {
     "data": {
      "text/html": [
       "<div>\n",
       "<style scoped>\n",
       "    .dataframe tbody tr th:only-of-type {\n",
       "        vertical-align: middle;\n",
       "    }\n",
       "\n",
       "    .dataframe tbody tr th {\n",
       "        vertical-align: top;\n",
       "    }\n",
       "\n",
       "    .dataframe thead th {\n",
       "        text-align: right;\n",
       "    }\n",
       "</style>\n",
       "<table border=\"1\" class=\"dataframe\">\n",
       "  <thead>\n",
       "    <tr style=\"text-align: right;\">\n",
       "      <th></th>\n",
       "      <th>Location</th>\n",
       "      <th>Temperature (C)</th>\n",
       "      <th>Temp Min (C)</th>\n",
       "      <th>Temp Max (C)</th>\n",
       "      <th>Wind Speed (m/s)</th>\n",
       "      <th>Weather</th>\n",
       "      <th>Cloudiness (%)</th>\n",
       "      <th>Visibility (m)</th>\n",
       "      <th>Wind Gusts (m/s)</th>\n",
       "      <th>GPS Satellites</th>\n",
       "    </tr>\n",
       "  </thead>\n",
       "  <tbody>\n",
       "    <tr>\n",
       "      <th>0</th>\n",
       "      <td>New York</td>\n",
       "      <td>32.82</td>\n",
       "      <td>30.19</td>\n",
       "      <td>35.54</td>\n",
       "      <td>3.09</td>\n",
       "      <td>clear sky</td>\n",
       "      <td>0</td>\n",
       "      <td>10000</td>\n",
       "      <td>None</td>\n",
       "      <td>10</td>\n",
       "    </tr>\n",
       "  </tbody>\n",
       "</table>\n",
       "</div>"
      ],
      "text/plain": [
       "   Location  Temperature (C)  Temp Min (C)  Temp Max (C)  Wind Speed (m/s)  \\\n",
       "0  New York            32.82         30.19         35.54              3.09   \n",
       "\n",
       "     Weather  Cloudiness (%)  Visibility (m) Wind Gusts (m/s)  GPS Satellites  \n",
       "0  clear sky               0           10000             None              10  "
      ]
     },
     "metadata": {},
     "output_type": "display_data"
    }
   ],
   "source": [
    "ny20_api_key = \"ABGCE6-CWB2QQ-T7L63P-59PE\"\n",
    "\n",
    "\n",
    "def get_gps_satellites(latitude, longitude, api_key):\n",
    "    url = f\"https://api.n2yo.com/rest/v1/satellite/above/{latitude}/{longitude}/0/90/20/&apiKey={api_key}\"\n",
    "    params = {\n",
    "        'apiKey': api_key,\n",
    "        'lat': latitude,\n",
    "        'lon': longitude,\n",
    "        'alt': 0,  # Altitude (in meters) - let's assume sea level for simplicty\n",
    "        'category': 20,  # GPS satellites are type 20 according to documentation\n",
    "        'observer_lat': latitude,\n",
    "        'observer_lon': longitude,\n",
    "        'observer_alt': 0, \n",
    "        'search_radius': 20,  # Search radius (in degrees)\n",
    "    }\n",
    "\n",
    "    try:\n",
    "        response = requests.get(url, params=params)\n",
    "        response.raise_for_status()\n",
    "        data = response.json()\n",
    "        return len(data.get('above', []))\n",
    "    except:\n",
    "        print(\"Could not generate a response.\") #Fail gracefully if request fails\n",
    "        return None\n",
    "\n",
    "if coordinates:\n",
    "    gps_satellites = get_gps_satellites(latitude, longitude, ny20_api_key)\n",
    "    if gps_satellites is not None:\n",
    "        print(f\"Number of visible GPS satellites: {gps_satellites}\")\n",
    "        df[\"GPS Satellites\"] = gps_satellites\n",
    "        display(df) #add results to the dataframe\n",
    "    else:\n",
    "        print(\"Could not retrieve GPS satellite data.\")\n",
    "else:\n",
    "    print(\"Coordinates not available, cannot fetch GPS satellite data.\")"
   ]
  },
  {
   "cell_type": "markdown",
   "id": "5f1a0e06-cedd-4d80-828e-94ca6476fbf8",
   "metadata": {},
   "source": [
    "Seaborn Heatmap\n",
    "We'll let the user input their preferred conditions depending on their drones\n",
    "We've used some realistic sample assumptions"
   ]
  },
  {
   "cell_type": "code",
   "execution_count": 6,
   "id": "099055b8-5c63-4733-ae72-f40cbb03e775",
   "metadata": {
    "scrolled": true
   },
   "outputs": [
    {
     "data": {
      "text/html": [
       "<div>\n",
       "<style scoped>\n",
       "    .dataframe tbody tr th:only-of-type {\n",
       "        vertical-align: middle;\n",
       "    }\n",
       "\n",
       "    .dataframe tbody tr th {\n",
       "        vertical-align: top;\n",
       "    }\n",
       "\n",
       "    .dataframe thead th {\n",
       "        text-align: right;\n",
       "    }\n",
       "</style>\n",
       "<table border=\"1\" class=\"dataframe\">\n",
       "  <thead>\n",
       "    <tr style=\"text-align: right;\">\n",
       "      <th></th>\n",
       "      <th>Temperature (C)</th>\n",
       "      <th>Temp Min (C)</th>\n",
       "      <th>Temp Max (C)</th>\n",
       "      <th>Wind Speed (m/s)</th>\n",
       "      <th>Cloudiness (%)</th>\n",
       "      <th>Visibility (m)</th>\n",
       "      <th>Wind Gusts (m/s)</th>\n",
       "      <th>GPS Satellites</th>\n",
       "    </tr>\n",
       "  </thead>\n",
       "  <tbody>\n",
       "    <tr>\n",
       "      <th>0</th>\n",
       "      <td>0</td>\n",
       "      <td>0</td>\n",
       "      <td>0</td>\n",
       "      <td>1</td>\n",
       "      <td>1</td>\n",
       "      <td>1</td>\n",
       "      <td>0</td>\n",
       "      <td>1</td>\n",
       "    </tr>\n",
       "  </tbody>\n",
       "</table>\n",
       "</div>"
      ],
      "text/plain": [
       "   Temperature (C)  Temp Min (C)  Temp Max (C)  Wind Speed (m/s)  \\\n",
       "0                0             0             0                 1   \n",
       "\n",
       "   Cloudiness (%)  Visibility (m)  Wind Gusts (m/s)  GPS Satellites  \n",
       "0               1               1                 0               1  "
      ]
     },
     "metadata": {},
     "output_type": "display_data"
    },
    {
     "data": {
      "image/png": "[encoded data removed]",
      "text/plain": [
       "<Figure size 1000x100 with 1 Axes>"
      ]
     },
     "metadata": {},
     "output_type": "display_data"
    }
   ],
   "source": [
    "# We'll let the user input their preferred conditions \n",
    "\n",
    "conditions = {\n",
    "    \"Temperature (C)\": (df[\"Temperature (C)\"] >= 15) & (df[\"Temperature (C)\"] <= 30),\n",
    "    \"Temp Min (C)\": (df[\"Temp Min (C)\"] >= 15) & (df[\"Temp Min (C)\"] <= 30),\n",
    "    \"Temp Max (C)\": (df[\"Temp Max (C)\"] >= 15) & (df[\"Temp Max (C)\"] <= 30),\n",
    "    \"Wind Speed (m/s)\": df[\"Wind Speed (m/s)\"] < 10,\n",
    "    \"Cloudiness (%)\": df[\"Cloudiness (%)\"] < 50,\n",
    "    \"Visibility (m)\": df[\"Visibility (m)\"] > 1000,\n",
    "    \"Wind Gusts (m/s)\": df[\"Wind Gusts (m/s)\"] < 10,\n",
    "    \"GPS Satellites\": df[\"GPS Satellites\"] > 5\n",
    "}\n",
    "\n",
    "conditions_df = pd.DataFrame(conditions).astype(int)\n",
    "display(conditions_df) #Let's store the conditions boolean as a seperate dataframe for easier manipulation and graphing\n",
    "\n",
    "cmap = sns.color_palette([\"#8B1500\", \"#32CD32\"])  # Red and Green colors\n",
    "\n",
    "plt.figure(figsize=(10, 1))\n",
    "sns.heatmap(conditions_df, annot=False, cmap=cmap, cbar=False, linewidths=4,\n",
    "            yticklabels=['Status'],\n",
    "            vmin=0, vmax=1) # Otherwise it doesn't always make 1s green if everything succeeds or fails\n",
    "\n",
    "plt.title('Should I fly?')\n",
    "plt.show()"
   ]
  },
  {
   "cell_type": "code",
   "execution_count": null,
   "id": "b860f894-a39f-4a67-96c3-b2d168f54ccd",
   "metadata": {},
   "outputs": [],
   "source": []
  }
 ],
 "metadata": {
  "kernelspec": {
   "display_name": "Python 3 (ipykernel)",
   "language": "python",
   "name": "python3"
  },
  "language_info": {
   "codemirror_mode": {
    "name": "ipython",
    "version": 3
   },
   "file_extension": ".py",
   "mimetype": "text/x-python",
   "name": "python",
   "nbconvert_exporter": "python",
   "pygments_lexer": "ipython3",
   "version": "3.11.5"
  }
 },
 "nbformat": 4,
 "nbformat_minor": 5
}
