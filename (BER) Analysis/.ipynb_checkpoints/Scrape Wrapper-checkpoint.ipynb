{
 "cells": [
  {
   "cell_type": "markdown",
   "metadata": {
    "id": "_A4vM4q0R9V6"
   },
   "source": [
    "# We are going to write a script that will web scrape the latest data analytics positions from LinkedIn in a Location we choose:"
   ]
  },
  {
   "cell_type": "markdown",
   "metadata": {},
   "source": [
    "---"
   ]
  },
  {
   "cell_type": "markdown",
   "metadata": {},
   "source": [
    "### Import every library ever created"
   ]
  },
  {
   "cell_type": "code",
   "execution_count": 1,
   "metadata": {},
   "outputs": [],
   "source": [
    "# this is the library that we will use to create break times in order to mimic human behaviour\n",
    "import time\n",
    "from getpass import getpass\n",
    "\n",
    "\n",
    "# Juicy stuff- these are the Classes we will use for interaction with a webpage:\n",
    "from selenium import webdriver\n",
    "from selenium.webdriver.common.keys import Keys\n",
    "from selenium.webdriver.chrome.service import Service\n",
    "from selenium.webdriver.common.by import By\n",
    "from webdriver_manager.chrome import ChromeDriverManager\n",
    "\n",
    "\n",
    "# library for interacting with the operating system\n",
    "import os\n",
    "\n",
    "# you know pandas it's your best buddy\n",
    "import pandas as pd\n",
    "import numpy as np\n",
    "from bs4 import BeautifulSoup\n",
    "import re\n",
    "\n",
    "# library for directory location:\n",
    "\n",
    "import pathlib\n",
    "from os.path import join\n",
    "\n",
    "#Ignore warning -- Some methods are going to be deprecated and I didn't change all (mainly in the function scrapper)\n",
    "import warnings\n",
    "warnings.filterwarnings('ignore')"
   ]
  },
  {
   "cell_type": "markdown",
   "metadata": {},
   "source": [
    "### Load a driver and the website"
   ]
  },
  {
   "cell_type": "code",
   "execution_count": 2,
   "metadata": {},
   "outputs": [],
   "source": [
    "driver = webdriver.Chrome(service=Service(ChromeDriverManager().install()))"
   ]
  },
  {
   "cell_type": "code",
   "execution_count": 3,
   "metadata": {},
   "outputs": [],
   "source": [
    "driver.get('https://ber.berlin-airport.de/en/flying/departures-arrivals.html?date=2024-06-27&flightType=D&search=')"
   ]
  },
  {
   "cell_type": "markdown",
   "metadata": {},
   "source": [
    "### Click cookies"
   ]
  },
  {
   "cell_type": "code",
   "execution_count": 4,
   "metadata": {},
   "outputs": [],
   "source": [
    "try:\n",
    "    cookie_button = driver.find_element(By.ID, \"CybotCookiebotDialogBodyLevelButtonLevelOptinAllowAll\")\n",
    "    cookie_button.click()\n",
    "    time.sleep(2.5)\n",
    "except:\n",
    "    print(\"Cookies already accepted.\")"
   ]
  },
  {
   "cell_type": "markdown",
   "metadata": {},
   "source": [
    "### Try scroll to the end"
   ]
  },
  {
   "cell_type": "code",
   "execution_count": 142,
   "metadata": {},
   "outputs": [],
   "source": [
    "page = driver.find_element(By.CSS_SELECTOR, \"body[class^='page basicpage']\")\n",
    "page.click()\n",
    "time.sleep(1)\n",
    "\n",
    "flight_viewer = driver.find_element(By.CSS_SELECTOR, \"body[class^='page basicpage']\") #page = driver.find_element_by_css_selector(\"a[class^='disabled ember-view']\")\n",
    "flight_viewer.send_keys(Keys.END)"
   ]
  },
  {
   "cell_type": "markdown",
   "metadata": {},
   "source": [
    "### Click load more as many times until all flights are listed"
   ]
  },
  {
   "cell_type": "code",
   "execution_count": 143,
   "metadata": {},
   "outputs": [],
   "source": [
    "load_more = driver.find_element(By.CLASS_NAME, \"cmp-flightlist__action-link\")\n",
    "load_more.click()"
   ]
  },
  {
   "cell_type": "markdown",
   "metadata": {},
   "source": [
    "### Get the html page source"
   ]
  },
  {
   "cell_type": "code",
   "execution_count": 8,
   "metadata": {},
   "outputs": [],
   "source": [
    "html = driver.page_source\n",
    "soup = BeautifulSoup(html)"
   ]
  },
  {
   "cell_type": "markdown",
   "metadata": {},
   "source": [
    "### Get all the flight links and save to a list"
   ]
  },
  {
   "cell_type": "code",
   "execution_count": 9,
   "metadata": {},
   "outputs": [],
   "source": [
    "flights = soup.find_all('div', attrs= {'class' : 'cmp-flightlist__list__items'})\n",
    "result_set_html = ''.join(str(tag) for tag in flights)\n",
    "new_flights = BeautifulSoup(result_set_html, 'html.parser')\n",
    "base_url = \"https://ber.berlin-airport.de\"\n",
    "a_tags = new_flights.find_all('a')\n",
    "href_list = [base_url + tag['href'] for tag in a_tags if 'href' in tag.attrs]"
   ]
  },
  {
   "cell_type": "markdown",
   "metadata": {},
   "source": [
    "### Save the links to a file for safe keeps"
   ]
  },
  {
   "cell_type": "code",
   "execution_count": 10,
   "metadata": {},
   "outputs": [
    {
     "name": "stdout",
     "output_type": "stream",
     "text": [
      "What Day: 171\n",
      "Arrival or Departure: arrival\n"
     ]
    }
   ],
   "source": [
    "date_of_scrape = input(\"What Day: \")\n",
    "arr_dep = input(\"Arrival or Departure: \")\n",
    "file_path = f\"/Users/martynas/Desktop/Ironhack/Week 9:Selenium/Berlin Scraper/Href Links/{arr_dep}_links_{date_of_scrape}.txt\"\n",
    "\n",
    "with open(file_path, 'w') as file:\n",
    "    for href in href_list:\n",
    "        file.write(f\"{href}\\n\")"
   ]
  },
  {
   "cell_type": "markdown",
   "metadata": {},
   "source": [
    "### Open the links file into a list"
   ]
  },
  {
   "cell_type": "code",
   "execution_count": 8,
   "metadata": {},
   "outputs": [],
   "source": [
    "with open('/Users/martynas/Desktop/Ironhack/Week 9:Selenium/Berlin Scraper/Href Links/departure_links_161.txt', 'r') as file:\n",
    "    href_list_dep = [line.strip() for line in file]"
   ]
  },
  {
   "cell_type": "code",
   "execution_count": 15,
   "metadata": {},
   "outputs": [],
   "source": [
    "with open('/Users/martynas/Desktop/Ironhack/Week 9:Selenium/Berlin Scraper/Href Links/arrival_links_161.txt', 'r') as file:\n",
    "    href_list_arr = [line.strip() for line in file]"
   ]
  },
  {
   "cell_type": "markdown",
   "metadata": {},
   "source": [
    "### Test for elements"
   ]
  },
  {
   "cell_type": "code",
   "execution_count": 16,
   "metadata": {},
   "outputs": [],
   "source": [
    "driver.get(href_list_arr[154])"
   ]
  },
  {
   "cell_type": "code",
   "execution_count": 60,
   "metadata": {
    "scrolled": true
   },
   "outputs": [
    {
     "data": {
      "text/plain": [
       "'https://ber.berlin-airport.de/en/flying/departures-arrivals/flugdetails.html?flightId=1278875'"
      ]
     },
     "execution_count": 60,
     "metadata": {},
     "output_type": "execute_result"
    }
   ],
   "source": [
    "href_list_dep[39]"
   ]
  },
  {
   "cell_type": "code",
   "execution_count": 25,
   "metadata": {},
   "outputs": [
    {
     "data": {
      "text/plain": [
       "'https://ber.berlin-airport.de/en/flying/departures-arrivals/flugdetails.html?flightId=1248662'"
      ]
     },
     "execution_count": 25,
     "metadata": {},
     "output_type": "execute_result"
    }
   ],
   "source": [
    "href_list_arr[0]"
   ]
  },
  {
   "cell_type": "code",
   "execution_count": 42,
   "metadata": {},
   "outputs": [],
   "source": [
    "new_element = driver.find_element(By.CSS_SELECTOR,\"strong[data-flight-data^='dep_expected_time']\").text"
   ]
  },
  {
   "cell_type": "code",
   "execution_count": 43,
   "metadata": {},
   "outputs": [
    {
     "data": {
      "text/plain": [
       "'18/06/2024 13:00'"
      ]
     },
     "execution_count": 43,
     "metadata": {},
     "output_type": "execute_result"
    }
   ],
   "source": [
    "new_element"
   ]
  },
  {
   "cell_type": "markdown",
   "metadata": {},
   "source": [
    "## Run to create a database"
   ]
  },
  {
   "cell_type": "markdown",
   "metadata": {},
   "source": [
    "### Departures"
   ]
  },
  {
   "cell_type": "code",
   "execution_count": 11,
   "metadata": {
    "scrolled": true
   },
   "outputs": [
    {
     "name": "stdout",
     "output_type": "stream",
     "text": [
      "What Day: 171\n",
      "1 out of 251 scraped\n",
      "2 out of 251 scraped\n",
      "3 out of 251 scraped\n",
      "4 out of 251 scraped\n",
      "5 out of 251 scraped\n",
      "6 out of 251 scraped\n",
      "7 out of 251 scraped\n",
      "8 out of 251 scraped\n",
      "9 out of 251 scraped\n",
      "10 out of 251 scraped\n",
      "11 out of 251 scraped\n",
      "12 out of 251 scraped\n",
      "13 out of 251 scraped\n",
      "14 out of 251 scraped\n",
      "15 out of 251 scraped\n",
      "16 out of 251 scraped\n",
      "17 out of 251 scraped\n",
      "18 out of 251 scraped\n",
      "19 out of 251 scraped\n",
      "20 out of 251 scraped\n",
      "21 out of 251 scraped\n",
      "22 out of 251 scraped\n",
      "23 out of 251 scraped\n",
      "24 out of 251 scraped\n",
      "25 out of 251 scraped\n",
      "26 out of 251 scraped\n",
      "27 out of 251 scraped\n",
      "28 out of 251 scraped\n",
      "29 out of 251 scraped\n",
      "30 out of 251 scraped\n",
      "31 out of 251 scraped\n",
      "32 out of 251 scraped\n",
      "33 out of 251 scraped\n",
      "34 out of 251 scraped\n",
      "35 out of 251 scraped\n",
      "36 out of 251 scraped\n",
      "37 out of 251 scraped\n",
      "38 out of 251 scraped\n",
      "39 out of 251 scraped\n",
      "40 out of 251 scraped\n",
      "41 out of 251 scraped\n",
      "42 out of 251 scraped\n",
      "43 out of 251 scraped\n",
      "44 out of 251 scraped\n",
      "45 out of 251 scraped\n",
      "46 out of 251 scraped\n",
      "47 out of 251 scraped\n",
      "48 out of 251 scraped\n",
      "49 out of 251 scraped\n",
      "50 out of 251 scraped\n",
      "51 out of 251 scraped\n",
      "52 out of 251 scraped\n",
      "53 out of 251 scraped\n",
      "54 out of 251 scraped\n",
      "55 out of 251 scraped\n",
      "56 out of 251 scraped\n",
      "57 out of 251 scraped\n",
      "58 out of 251 scraped\n",
      "59 out of 251 scraped\n",
      "60 out of 251 scraped\n",
      "61 out of 251 scraped\n",
      "62 out of 251 scraped\n",
      "63 out of 251 scraped\n",
      "64 out of 251 scraped\n",
      "65 out of 251 scraped\n",
      "66 out of 251 scraped\n",
      "67 out of 251 scraped\n",
      "68 out of 251 scraped\n",
      "69 out of 251 scraped\n",
      "70 out of 251 scraped\n",
      "71 out of 251 scraped\n",
      "72 out of 251 scraped\n",
      "73 out of 251 scraped\n",
      "74 out of 251 scraped\n",
      "75 out of 251 scraped\n",
      "76 out of 251 scraped\n",
      "77 out of 251 scraped\n",
      "78 out of 251 scraped\n",
      "79 out of 251 scraped\n",
      "80 out of 251 scraped\n",
      "81 out of 251 scraped\n",
      "82 out of 251 scraped\n",
      "83 out of 251 scraped\n",
      "84 out of 251 scraped\n",
      "85 out of 251 scraped\n",
      "86 out of 251 scraped\n",
      "87 out of 251 scraped\n",
      "88 out of 251 scraped\n",
      "89 out of 251 scraped\n",
      "90 out of 251 scraped\n",
      "91 out of 251 scraped\n",
      "92 out of 251 scraped\n",
      "93 out of 251 scraped\n",
      "94 out of 251 scraped\n",
      "95 out of 251 scraped\n",
      "96 out of 251 scraped\n",
      "97 out of 251 scraped\n",
      "98 out of 251 scraped\n",
      "99 out of 251 scraped\n",
      "100 out of 251 scraped\n",
      "101 out of 251 scraped\n",
      "102 out of 251 scraped\n",
      "103 out of 251 scraped\n",
      "104 out of 251 scraped\n",
      "105 out of 251 scraped\n",
      "106 out of 251 scraped\n",
      "107 out of 251 scraped\n",
      "108 out of 251 scraped\n",
      "109 out of 251 scraped\n",
      "110 out of 251 scraped\n",
      "111 out of 251 scraped\n",
      "112 out of 251 scraped\n",
      "113 out of 251 scraped\n",
      "114 out of 251 scraped\n",
      "115 out of 251 scraped\n",
      "116 out of 251 scraped\n",
      "117 out of 251 scraped\n",
      "118 out of 251 scraped\n",
      "119 out of 251 scraped\n",
      "120 out of 251 scraped\n",
      "121 out of 251 scraped\n",
      "122 out of 251 scraped\n",
      "123 out of 251 scraped\n",
      "124 out of 251 scraped\n",
      "125 out of 251 scraped\n",
      "126 out of 251 scraped\n",
      "127 out of 251 scraped\n",
      "128 out of 251 scraped\n",
      "129 out of 251 scraped\n",
      "130 out of 251 scraped\n",
      "131 out of 251 scraped\n",
      "132 out of 251 scraped\n",
      "133 out of 251 scraped\n",
      "134 out of 251 scraped\n",
      "135 out of 251 scraped\n",
      "136 out of 251 scraped\n",
      "137 out of 251 scraped\n",
      "138 out of 251 scraped\n",
      "139 out of 251 scraped\n",
      "140 out of 251 scraped\n",
      "141 out of 251 scraped\n",
      "142 out of 251 scraped\n",
      "143 out of 251 scraped\n",
      "144 out of 251 scraped\n",
      "145 out of 251 scraped\n",
      "146 out of 251 scraped\n",
      "147 out of 251 scraped\n",
      "148 out of 251 scraped\n",
      "149 out of 251 scraped\n",
      "150 out of 251 scraped\n",
      "151 out of 251 scraped\n",
      "152 out of 251 scraped\n",
      "153 out of 251 scraped\n",
      "154 out of 251 scraped\n",
      "155 out of 251 scraped\n",
      "156 out of 251 scraped\n",
      "157 out of 251 scraped\n",
      "158 out of 251 scraped\n",
      "159 out of 251 scraped\n",
      "160 out of 251 scraped\n",
      "161 out of 251 scraped\n",
      "162 out of 251 scraped\n",
      "163 out of 251 scraped\n",
      "164 out of 251 scraped\n",
      "165 out of 251 scraped\n",
      "166 out of 251 scraped\n",
      "167 out of 251 scraped\n",
      "168 out of 251 scraped\n",
      "169 out of 251 scraped\n",
      "170 out of 251 scraped\n",
      "171 out of 251 scraped\n",
      "172 out of 251 scraped\n",
      "173 out of 251 scraped\n",
      "174 out of 251 scraped\n",
      "175 out of 251 scraped\n",
      "176 out of 251 scraped\n",
      "177 out of 251 scraped\n",
      "178 out of 251 scraped\n",
      "179 out of 251 scraped\n",
      "180 out of 251 scraped\n",
      "181 out of 251 scraped\n",
      "182 out of 251 scraped\n",
      "183 out of 251 scraped\n",
      "184 out of 251 scraped\n",
      "185 out of 251 scraped\n",
      "186 out of 251 scraped\n",
      "187 out of 251 scraped\n",
      "188 out of 251 scraped\n",
      "189 out of 251 scraped\n",
      "190 out of 251 scraped\n",
      "191 out of 251 scraped\n",
      "192 out of 251 scraped\n",
      "193 out of 251 scraped\n",
      "194 out of 251 scraped\n",
      "195 out of 251 scraped\n",
      "196 out of 251 scraped\n",
      "197 out of 251 scraped\n",
      "198 out of 251 scraped\n",
      "199 out of 251 scraped\n",
      "200 out of 251 scraped\n",
      "201 out of 251 scraped\n",
      "202 out of 251 scraped\n",
      "203 out of 251 scraped\n",
      "204 out of 251 scraped\n",
      "205 out of 251 scraped\n",
      "206 out of 251 scraped\n",
      "207 out of 251 scraped\n",
      "208 out of 251 scraped\n",
      "209 out of 251 scraped\n",
      "210 out of 251 scraped\n",
      "211 out of 251 scraped\n",
      "212 out of 251 scraped\n",
      "213 out of 251 scraped\n",
      "214 out of 251 scraped\n",
      "215 out of 251 scraped\n",
      "216 out of 251 scraped\n",
      "217 out of 251 scraped\n",
      "218 out of 251 scraped\n",
      "219 out of 251 scraped\n",
      "220 out of 251 scraped\n",
      "221 out of 251 scraped\n",
      "222 out of 251 scraped\n",
      "223 out of 251 scraped\n",
      "224 out of 251 scraped\n",
      "225 out of 251 scraped\n",
      "226 out of 251 scraped\n",
      "227 out of 251 scraped\n",
      "228 out of 251 scraped\n",
      "229 out of 251 scraped\n",
      "230 out of 251 scraped\n",
      "231 out of 251 scraped\n",
      "232 out of 251 scraped\n",
      "233 out of 251 scraped\n",
      "234 out of 251 scraped\n",
      "235 out of 251 scraped\n",
      "236 out of 251 scraped\n",
      "237 out of 251 scraped\n",
      "238 out of 251 scraped\n",
      "239 out of 251 scraped\n",
      "240 out of 251 scraped\n",
      "241 out of 251 scraped\n",
      "242 out of 251 scraped\n",
      "243 out of 251 scraped\n",
      "244 out of 251 scraped\n",
      "245 out of 251 scraped\n",
      "246 out of 251 scraped\n",
      "247 out of 251 scraped\n",
      "248 out of 251 scraped\n",
      "249 out of 251 scraped\n",
      "250 out of 251 scraped\n",
      "251 out of 251 scraped\n"
     ]
    }
   ],
   "source": [
    "flight_data_dep = []\n",
    "date_of_scrape = input(\"What Day: \")\n",
    "for_loading = 0\n",
    "\n",
    "with open(f\"/Users/martynas/Desktop/Ironhack/Week 9:Selenium/Berlin Scraper/Href Links/departure_links_{date_of_scrape}.txt\", 'r') as file:\n",
    "    href_list_dep = [line.strip() for line in file]\n",
    "\n",
    "for link in href_list_dep:\n",
    "    \n",
    "    driver.get(link)\n",
    "    time.sleep(1)\n",
    "    \n",
    "    try:\n",
    "        cookie_button = driver.find_element(By.ID, \"CybotCookiebotDialogBodyLevelButtonLevelOptinAllowAll\")\n",
    "        cookie_button.click()\n",
    "        time.sleep(1.5)\n",
    "    except:\n",
    "        pass\n",
    "    \n",
    "    driver.execute_script(\"document.body.style.zoom='100%'\")\n",
    "\n",
    "    driver.execute_script(\"document.body.style.zoom='67%'\")\n",
    "    time.sleep(1.3)\n",
    "    \n",
    "    \n",
    "    depart_air = driver.find_element(By.CSS_SELECTOR,\"h2[data-flight-data^='dep_airport_name']\").text\n",
    "    arrival_air = driver.find_element(By.CSS_SELECTOR,\"h2[data-flight-data^='arr_airport_name']\").text\n",
    "    date_time = driver.find_element(By.CSS_SELECTOR,\"strong[data-flight-data^='dep_scheduled_time']\").text\n",
    "    actual_time = driver.find_element(By.CSS_SELECTOR,\"strong[data-flight-data^='dep_expected_time']\").text\n",
    "    terminal = driver.find_element(By.CSS_SELECTOR,\"i[data-flight-data^='terminal']\").text\n",
    "    check_in = driver.find_element(By.CSS_SELECTOR,\"strong[data-flight-data^='checkin_counter']\").text\n",
    "    gate = driver.find_element(By.CSS_SELECTOR,\"strong[data-flight-data^='gate']\").text\n",
    "    airline = driver.find_element(By.CSS_SELECTOR,\"span[data-flight-data^='airline_name']\").text\n",
    "    flight_nr = driver.find_element(By.CSS_SELECTOR,\"strong[data-flight-data^='flight_number_details']\").text\n",
    "    aircraft_type = driver.find_element(By.CSS_SELECTOR,\"strong[data-flight-data^='aircraft_type']\").text\n",
    "    plane_reg = driver.find_element(By.CSS_SELECTOR,\"strong[data-flight-data^='aircraft_reg']\").text\n",
    "    status = driver.find_element(By.CSS_SELECTOR,\"u[data-flight-data^='flight_status_label']\").text\n",
    "\n",
    "    flight_idx_list_dep = [depart_air, arrival_air, date_time, actual_time, terminal, check_in, gate, flight_nr, aircraft_type, plane_reg, status, airline]\n",
    "    \n",
    "    flight_data_dep.append(flight_idx_list_dep)\n",
    "    \n",
    "    \n",
    "    for_loading = for_loading+1\n",
    "    print(f\"{for_loading} out of {len(href_list_dep)} scraped\")\n",
    "    \n",
    "departure_dataframe = pd.DataFrame(flight_data_dep,\n",
    "                                 columns = [\"Departure\", \"Destination\", \"Date and Time\", \"Actual Departure\", \"Terminal\", \"Check In\" , \"Gate\", \"Flight Number\", \"Aircraft Type\", \"Plane Reg\", \"Flight Status\", \"Airline\" ]\n",
    "                                )\n",
    "\n",
    "departure_dataframe.to_excel(f\"/Users/martynas/Desktop/Ironhack/Week 9:Selenium/Berlin Scraper/Data/departure_info_{date_of_scrape}.xlsx\",\n",
    "                           sheet_name='Flights',\n",
    "                           index= False)"
   ]
  },
  {
   "cell_type": "markdown",
   "metadata": {},
   "source": [
    "Arrivals"
   ]
  },
  {
   "cell_type": "code",
   "execution_count": 12,
   "metadata": {
    "scrolled": true
   },
   "outputs": [
    {
     "name": "stdout",
     "output_type": "stream",
     "text": [
      "What Date: 171\n",
      "1 out of 249 scraped\n",
      "2 out of 249 scraped\n",
      "3 out of 249 scraped\n",
      "4 out of 249 scraped\n",
      "5 out of 249 scraped\n",
      "6 out of 249 scraped\n",
      "7 out of 249 scraped\n",
      "8 out of 249 scraped\n",
      "9 out of 249 scraped\n",
      "10 out of 249 scraped\n",
      "11 out of 249 scraped\n",
      "12 out of 249 scraped\n",
      "13 out of 249 scraped\n",
      "14 out of 249 scraped\n",
      "15 out of 249 scraped\n",
      "16 out of 249 scraped\n",
      "17 out of 249 scraped\n",
      "18 out of 249 scraped\n",
      "19 out of 249 scraped\n",
      "20 out of 249 scraped\n",
      "21 out of 249 scraped\n",
      "22 out of 249 scraped\n",
      "23 out of 249 scraped\n",
      "24 out of 249 scraped\n",
      "25 out of 249 scraped\n",
      "26 out of 249 scraped\n",
      "27 out of 249 scraped\n",
      "28 out of 249 scraped\n",
      "29 out of 249 scraped\n",
      "30 out of 249 scraped\n",
      "31 out of 249 scraped\n",
      "32 out of 249 scraped\n",
      "33 out of 249 scraped\n",
      "34 out of 249 scraped\n",
      "35 out of 249 scraped\n",
      "36 out of 249 scraped\n",
      "37 out of 249 scraped\n",
      "38 out of 249 scraped\n",
      "39 out of 249 scraped\n",
      "40 out of 249 scraped\n",
      "41 out of 249 scraped\n",
      "42 out of 249 scraped\n",
      "43 out of 249 scraped\n",
      "44 out of 249 scraped\n",
      "45 out of 249 scraped\n",
      "46 out of 249 scraped\n",
      "47 out of 249 scraped\n",
      "48 out of 249 scraped\n",
      "49 out of 249 scraped\n",
      "50 out of 249 scraped\n",
      "51 out of 249 scraped\n",
      "52 out of 249 scraped\n",
      "53 out of 249 scraped\n",
      "54 out of 249 scraped\n",
      "55 out of 249 scraped\n",
      "56 out of 249 scraped\n",
      "57 out of 249 scraped\n",
      "58 out of 249 scraped\n",
      "59 out of 249 scraped\n",
      "60 out of 249 scraped\n",
      "61 out of 249 scraped\n",
      "62 out of 249 scraped\n",
      "63 out of 249 scraped\n",
      "64 out of 249 scraped\n",
      "65 out of 249 scraped\n",
      "66 out of 249 scraped\n",
      "67 out of 249 scraped\n",
      "68 out of 249 scraped\n",
      "69 out of 249 scraped\n",
      "70 out of 249 scraped\n",
      "71 out of 249 scraped\n",
      "72 out of 249 scraped\n",
      "73 out of 249 scraped\n",
      "74 out of 249 scraped\n",
      "75 out of 249 scraped\n",
      "76 out of 249 scraped\n",
      "77 out of 249 scraped\n",
      "78 out of 249 scraped\n",
      "79 out of 249 scraped\n",
      "80 out of 249 scraped\n",
      "81 out of 249 scraped\n",
      "82 out of 249 scraped\n",
      "83 out of 249 scraped\n",
      "84 out of 249 scraped\n",
      "85 out of 249 scraped\n",
      "86 out of 249 scraped\n",
      "87 out of 249 scraped\n",
      "88 out of 249 scraped\n",
      "89 out of 249 scraped\n",
      "90 out of 249 scraped\n",
      "91 out of 249 scraped\n",
      "92 out of 249 scraped\n",
      "93 out of 249 scraped\n",
      "94 out of 249 scraped\n",
      "95 out of 249 scraped\n",
      "96 out of 249 scraped\n",
      "97 out of 249 scraped\n",
      "98 out of 249 scraped\n",
      "99 out of 249 scraped\n",
      "100 out of 249 scraped\n",
      "101 out of 249 scraped\n",
      "102 out of 249 scraped\n",
      "103 out of 249 scraped\n",
      "104 out of 249 scraped\n",
      "105 out of 249 scraped\n",
      "106 out of 249 scraped\n",
      "107 out of 249 scraped\n",
      "108 out of 249 scraped\n",
      "109 out of 249 scraped\n",
      "110 out of 249 scraped\n",
      "111 out of 249 scraped\n",
      "112 out of 249 scraped\n",
      "113 out of 249 scraped\n",
      "114 out of 249 scraped\n",
      "115 out of 249 scraped\n",
      "116 out of 249 scraped\n",
      "117 out of 249 scraped\n",
      "118 out of 249 scraped\n",
      "119 out of 249 scraped\n",
      "120 out of 249 scraped\n",
      "121 out of 249 scraped\n",
      "122 out of 249 scraped\n",
      "123 out of 249 scraped\n",
      "124 out of 249 scraped\n",
      "125 out of 249 scraped\n",
      "126 out of 249 scraped\n",
      "127 out of 249 scraped\n",
      "128 out of 249 scraped\n",
      "129 out of 249 scraped\n",
      "130 out of 249 scraped\n",
      "131 out of 249 scraped\n",
      "132 out of 249 scraped\n",
      "133 out of 249 scraped\n",
      "134 out of 249 scraped\n",
      "135 out of 249 scraped\n",
      "136 out of 249 scraped\n",
      "137 out of 249 scraped\n",
      "138 out of 249 scraped\n",
      "139 out of 249 scraped\n",
      "140 out of 249 scraped\n",
      "141 out of 249 scraped\n",
      "142 out of 249 scraped\n",
      "143 out of 249 scraped\n",
      "144 out of 249 scraped\n",
      "145 out of 249 scraped\n",
      "146 out of 249 scraped\n",
      "147 out of 249 scraped\n",
      "148 out of 249 scraped\n",
      "149 out of 249 scraped\n",
      "150 out of 249 scraped\n",
      "151 out of 249 scraped\n",
      "152 out of 249 scraped\n",
      "153 out of 249 scraped\n",
      "154 out of 249 scraped\n",
      "155 out of 249 scraped\n",
      "156 out of 249 scraped\n",
      "157 out of 249 scraped\n",
      "158 out of 249 scraped\n",
      "159 out of 249 scraped\n",
      "160 out of 249 scraped\n",
      "161 out of 249 scraped\n",
      "162 out of 249 scraped\n",
      "163 out of 249 scraped\n",
      "164 out of 249 scraped\n",
      "165 out of 249 scraped\n",
      "166 out of 249 scraped\n",
      "167 out of 249 scraped\n",
      "168 out of 249 scraped\n",
      "169 out of 249 scraped\n",
      "170 out of 249 scraped\n",
      "171 out of 249 scraped\n",
      "172 out of 249 scraped\n",
      "173 out of 249 scraped\n",
      "174 out of 249 scraped\n",
      "175 out of 249 scraped\n",
      "176 out of 249 scraped\n",
      "177 out of 249 scraped\n",
      "178 out of 249 scraped\n",
      "179 out of 249 scraped\n",
      "180 out of 249 scraped\n",
      "181 out of 249 scraped\n",
      "182 out of 249 scraped\n",
      "183 out of 249 scraped\n",
      "184 out of 249 scraped\n",
      "185 out of 249 scraped\n",
      "186 out of 249 scraped\n",
      "187 out of 249 scraped\n",
      "188 out of 249 scraped\n",
      "189 out of 249 scraped\n",
      "190 out of 249 scraped\n",
      "191 out of 249 scraped\n",
      "192 out of 249 scraped\n",
      "193 out of 249 scraped\n",
      "194 out of 249 scraped\n",
      "195 out of 249 scraped\n",
      "196 out of 249 scraped\n",
      "197 out of 249 scraped\n",
      "198 out of 249 scraped\n",
      "199 out of 249 scraped\n",
      "200 out of 249 scraped\n",
      "201 out of 249 scraped\n",
      "202 out of 249 scraped\n",
      "203 out of 249 scraped\n",
      "204 out of 249 scraped\n",
      "205 out of 249 scraped\n",
      "206 out of 249 scraped\n",
      "207 out of 249 scraped\n",
      "208 out of 249 scraped\n",
      "209 out of 249 scraped\n",
      "210 out of 249 scraped\n",
      "211 out of 249 scraped\n",
      "212 out of 249 scraped\n",
      "213 out of 249 scraped\n",
      "214 out of 249 scraped\n",
      "215 out of 249 scraped\n",
      "216 out of 249 scraped\n",
      "217 out of 249 scraped\n",
      "218 out of 249 scraped\n",
      "219 out of 249 scraped\n",
      "220 out of 249 scraped\n",
      "221 out of 249 scraped\n",
      "222 out of 249 scraped\n",
      "223 out of 249 scraped\n",
      "224 out of 249 scraped\n",
      "225 out of 249 scraped\n",
      "226 out of 249 scraped\n",
      "227 out of 249 scraped\n",
      "228 out of 249 scraped\n",
      "229 out of 249 scraped\n",
      "230 out of 249 scraped\n",
      "231 out of 249 scraped\n",
      "232 out of 249 scraped\n",
      "233 out of 249 scraped\n",
      "234 out of 249 scraped\n",
      "235 out of 249 scraped\n",
      "236 out of 249 scraped\n",
      "237 out of 249 scraped\n",
      "238 out of 249 scraped\n",
      "239 out of 249 scraped\n",
      "240 out of 249 scraped\n",
      "241 out of 249 scraped\n",
      "242 out of 249 scraped\n",
      "243 out of 249 scraped\n",
      "244 out of 249 scraped\n",
      "245 out of 249 scraped\n",
      "246 out of 249 scraped\n",
      "247 out of 249 scraped\n",
      "248 out of 249 scraped\n",
      "249 out of 249 scraped\n"
     ]
    }
   ],
   "source": [
    "flight_data_arr = []\n",
    "date_of_scrape = input(\"What Date: \")\n",
    "for_loading = 0\n",
    "\n",
    "with open(f\"/Users/martynas/Desktop/Ironhack/Week 9:Selenium/Berlin Scraper/Href Links/arrival_links_{date_of_scrape}.txt\", 'r') as file:\n",
    "    href_list_arr = [line.strip() for line in file]\n",
    "\n",
    "for link in href_list_arr:\n",
    "    \n",
    "    driver.get(link)\n",
    "    time.sleep(1)\n",
    "    \n",
    "    try:\n",
    "        cookie_button = driver.find_element(By.ID, \"CybotCookiebotDialogBodyLevelButtonLevelOptinAllowAll\")\n",
    "        cookie_button.click()\n",
    "        time.sleep(1.5)\n",
    "    except:\n",
    "        pass\n",
    "    \n",
    "    driver.execute_script(\"document.body.style.zoom='100%'\")\n",
    "\n",
    "    driver.execute_script(\"document.body.style.zoom='67%'\")\n",
    "    time.sleep(1.3)\n",
    "    \n",
    "    \n",
    "    depart_air = driver.find_element(By.CSS_SELECTOR,\"h2[data-flight-data^='dep_airport_name']\").text\n",
    "    arrival_air = driver.find_element(By.CSS_SELECTOR,\"h2[data-flight-data^='arr_airport_name']\").text\n",
    "    date_time = driver.find_element(By.CSS_SELECTOR,\"strong[data-flight-data^='arr_scheduled_time']\").text\n",
    "    actual_time = driver.find_element(By.CSS_SELECTOR,\"strong[data-flight-data^='arr_expected_time']\").text\n",
    "    terminal = driver.find_element(By.CSS_SELECTOR,\"i[data-flight-data^='terminal_arr']\").text\n",
    "    check_in = driver.find_element(By.CSS_SELECTOR,\"strong[data-flight-data^='arr_belt']\").text\n",
    "    gate = driver.find_element(By.CSS_SELECTOR,\"strong[data-flight-data^='gate_arr']\").text\n",
    "    airline = driver.find_element(By.CSS_SELECTOR,\"span[data-flight-data^='airline_name']\").text\n",
    "    flight_nr = driver.find_element(By.CSS_SELECTOR,\"strong[data-flight-data^='flight_number_details']\").text\n",
    "    aircraft_type = driver.find_element(By.CSS_SELECTOR,\"strong[data-flight-data^='aircraft_type']\").text\n",
    "    plane_reg = driver.find_element(By.CSS_SELECTOR,\"strong[data-flight-data^='aircraft_reg']\").text\n",
    "    status = driver.find_element(By.CSS_SELECTOR,\"u[data-flight-data^='flight_status_label']\").text\n",
    "\n",
    "    flight_idx_list_arr = [depart_air, arrival_air, date_time, actual_time, terminal, check_in, gate, flight_nr, aircraft_type, plane_reg, status, airline]\n",
    "    \n",
    "    flight_data_arr.append(flight_idx_list_arr)\n",
    "    \n",
    "    \n",
    "    for_loading = for_loading+1\n",
    "    print(f\"{for_loading} out of {len(href_list_arr)} scraped\")\n",
    "    \n",
    "arrival_dataframe = pd.DataFrame(flight_data_arr,\n",
    "                                 columns = [\"Departure\", \"Destination\", \"Date and Time\", \"Actual Arrival\", \"Terminal\", \"Baggage Claim\" , \"Gate\", \"Flight Number\", \"Aircraft Type\", \"Plane Reg\", \"Flight Status\", \"Airline\" ]\n",
    "                                )\n",
    "\n",
    "arrival_dataframe.to_excel(f\"/Users/martynas/Desktop/Ironhack/Week 9:Selenium/Berlin Scraper/Data/arrival_info_{date_of_scrape}.xlsx\",\n",
    "                           sheet_name='Flights',\n",
    "                           index= False)"
   ]
  },
  {
   "cell_type": "markdown",
   "metadata": {},
   "source": [
    "### Close Driver"
   ]
  },
  {
   "cell_type": "code",
   "execution_count": 11,
   "metadata": {},
   "outputs": [],
   "source": [
    "driver.close()"
   ]
  },
  {
   "cell_type": "markdown",
   "metadata": {},
   "source": [
    "---"
   ]
  },
  {
   "cell_type": "markdown",
   "metadata": {},
   "source": [
    "### Combining and Cleaning the dataframes"
   ]
  },
  {
   "cell_type": "markdown",
   "metadata": {},
   "source": [
    "#### Arrivals"
   ]
  },
  {
   "cell_type": "code",
   "execution_count": 15,
   "metadata": {},
   "outputs": [],
   "source": [
    "df_arr1 = pd.read_excel('/Users/martynas/Desktop/Ironhack/Week 9:Selenium/Berlin Scraper/Data/arrival_info_16.xlsx')\n",
    "df_arr2 = pd.read_excel('/Users/martynas/Desktop/Ironhack/Week 9:Selenium/Berlin Scraper/Data/arrival_info_17.xlsx')\n",
    "df_arr3 = pd.read_excel('/Users/martynas/Desktop/Ironhack/Week 9:Selenium/Berlin Scraper/Data/arrival_info_24.xlsx')\n",
    "df_arr4 = pd.read_excel('/Users/martynas/Desktop/Ironhack/Week 9:Selenium/Berlin Scraper/Data/arrival_info_25.xlsx')\n",
    "df_arr5 = pd.read_excel('/Users/martynas/Desktop/Ironhack/Week 9:Selenium/Berlin Scraper/Data/arrival_info_26.xlsx')\n",
    "df_arr6 = pd.read_excel('/Users/martynas/Desktop/Ironhack/Week 9:Selenium/Berlin Scraper/Data/arrival_info_27.xlsx')\n",
    "df_arr7 = pd.read_excel('/Users/martynas/Desktop/Ironhack/Week 9:Selenium/Berlin Scraper/Data/arrival_info_28.xlsx')\n",
    "df_arr8 = pd.read_excel('/Users/martynas/Desktop/Ironhack/Week 9:Selenium/Berlin Scraper/Data/arrival_info_29.xlsx')\n",
    "df_arr9 = pd.read_excel('/Users/martynas/Desktop/Ironhack/Week 9:Selenium/Berlin Scraper/Data/arrival_info_01.xlsx')\n",
    "df_arr10 = pd.read_excel('/Users/martynas/Desktop/Ironhack/Week 9:Selenium/Berlin Scraper/Data/arrival_info_02.xlsx')\n",
    "df_arr11 = pd.read_excel('/Users/martynas/Desktop/Ironhack/Week 9:Selenium/Berlin Scraper/Data/arrival_info_03.xlsx')\n",
    "df_arr12 = pd.read_excel('/Users/martynas/Desktop/Ironhack/Week 9:Selenium/Berlin Scraper/Data/arrival_info_06.xlsx')\n",
    "df_arr13 = pd.read_excel('/Users/martynas/Desktop/Ironhack/Week 9:Selenium/Berlin Scraper/Data/arrival_info_07.xlsx')\n",
    "df_arr14 = pd.read_excel('/Users/martynas/Desktop/Ironhack/Week 9:Selenium/Berlin Scraper/Data/arrival_info_08.xlsx')\n",
    "df_arr15 = pd.read_excel('/Users/martynas/Desktop/Ironhack/Week 9:Selenium/Berlin Scraper/Data/arrival_info_09.xlsx')\n",
    "df_arr16 = pd.read_excel('/Users/martynas/Desktop/Ironhack/Week 9:Selenium/Berlin Scraper/Data/arrival_info_13.xlsx')\n",
    "df_arr17 = pd.read_excel('/Users/martynas/Desktop/Ironhack/Week 9:Selenium/Berlin Scraper/Data/arrival_info_14.xlsx')\n",
    "df_arr18 = pd.read_excel('/Users/martynas/Desktop/Ironhack/Week 9:Selenium/Berlin Scraper/Data/arrival_info_15.xlsx')\n",
    "df_arr19 = pd.read_excel('/Users/martynas/Desktop/Ironhack/Week 9:Selenium/Berlin Scraper/Data/arrival_info_161.xlsx')\n",
    "df_arr20 = pd.read_excel('/Users/martynas/Desktop/Ironhack/Week 9:Selenium/Berlin Scraper/Data/arrival_info_171.xlsx')"
   ]
  },
  {
   "cell_type": "code",
   "execution_count": 16,
   "metadata": {},
   "outputs": [],
   "source": [
    "combined_df_arr = pd.concat([df_arr1,df_arr2,df_arr3,df_arr4,df_arr5,df_arr6,df_arr7,df_arr8,df_arr9,df_arr10,df_arr11,df_arr12,df_arr13,df_arr14,df_arr15,df_arr16,df_arr17,df_arr18,df_arr19,df_arr20], ignore_index=True)"
   ]
  },
  {
   "cell_type": "code",
   "execution_count": 18,
   "metadata": {},
   "outputs": [],
   "source": [
    "combined_df_arr['Destination'] = combined_df_arr['Destination'].replace('Berlin Brandenburg Airport', 'Berlin')\n",
    "combined_df_arr[['Date', 'Scheduled Time']] = combined_df_arr['Date and Time'].str.split(' ', expand=True)\n",
    "combined_df_arr[['Date Schedule', 'Actual Arrival Time']] = combined_df_arr['Actual Arrival'].str.split(' ', expand=True)\n",
    "combined_df_arr.drop(columns=['Date and Time'], inplace=True)\n",
    "combined_df_arr.drop(columns=['Date Schedule'], inplace=True)\n",
    "combined_df_arr.drop(columns=['Actual Arrival'], inplace=True)\n",
    "combined_df_arr['Terminal'] = combined_df_arr['Terminal'].str.replace('T', '')\n",
    "combined_df_arr = combined_df_arr[combined_df_arr['Departure'] != '#####']\n",
    "combined_df_arr['Terminal'] = combined_df_arr['Terminal'].astype('Int64')\n",
    "combined_df_arr['Date'] = pd.to_datetime(combined_df_arr['Date'], dayfirst=True)\n",
    "conditions = [(combined_df_arr['Actual Arrival Time'].isnull()) | (combined_df_arr['Scheduled Time'] == combined_df_arr['Actual Arrival Time']), combined_df_arr['Scheduled Time'] < combined_df_arr['Actual Arrival Time'],combined_df_arr['Scheduled Time'] > combined_df_arr['Actual Arrival Time']]\n",
    "choices = ['On-Time', 'Delayed', 'Early']\n",
    "combined_df_arr['Status'] = np.select(conditions, choices, default='Unknown')"
   ]
  },
  {
   "cell_type": "code",
   "execution_count": 19,
   "metadata": {
    "scrolled": true
   },
   "outputs": [
    {
     "data": {
      "text/plain": [
       "(4949, 14)"
      ]
     },
     "execution_count": 19,
     "metadata": {},
     "output_type": "execute_result"
    }
   ],
   "source": [
    "combined_df_arr.shape"
   ]
  },
  {
   "cell_type": "code",
   "execution_count": 33,
   "metadata": {},
   "outputs": [],
   "source": [
    "combined_file = 'arrivals.xlsx'\n",
    "combined_df_arr.to_excel(combined_file, index=False)"
   ]
  },
  {
   "cell_type": "markdown",
   "metadata": {},
   "source": [
    "#### Departures"
   ]
  },
  {
   "cell_type": "code",
   "execution_count": 20,
   "metadata": {},
   "outputs": [],
   "source": [
    "df_dep1 = pd.read_excel('/Users/martynas/Desktop/Ironhack/Week 9:Selenium/Berlin Scraper/Data/departure_info_16.xlsx')\n",
    "df_dep2 = pd.read_excel('/Users/martynas/Desktop/Ironhack/Week 9:Selenium/Berlin Scraper/Data/departure_info_17.xlsx')\n",
    "df_dep3 = pd.read_excel('/Users/martynas/Desktop/Ironhack/Week 9:Selenium/Berlin Scraper/Data/departure_info_24.xlsx')\n",
    "df_dep4 = pd.read_excel('/Users/martynas/Desktop/Ironhack/Week 9:Selenium/Berlin Scraper/Data/departure_info_25.xlsx')\n",
    "df_dep5 = pd.read_excel('/Users/martynas/Desktop/Ironhack/Week 9:Selenium/Berlin Scraper/Data/departure_info_26.xlsx')\n",
    "df_dep6 = pd.read_excel('/Users/martynas/Desktop/Ironhack/Week 9:Selenium/Berlin Scraper/Data/departure_info_27.xlsx')\n",
    "df_dep7 = pd.read_excel('/Users/martynas/Desktop/Ironhack/Week 9:Selenium/Berlin Scraper/Data/departure_info_28.xlsx')\n",
    "df_dep8 = pd.read_excel('/Users/martynas/Desktop/Ironhack/Week 9:Selenium/Berlin Scraper/Data/departure_info_29.xlsx')\n",
    "df_dep9 = pd.read_excel('/Users/martynas/Desktop/Ironhack/Week 9:Selenium/Berlin Scraper/Data/departure_info_01.xlsx')\n",
    "df_dep10 = pd.read_excel('/Users/martynas/Desktop/Ironhack/Week 9:Selenium/Berlin Scraper/Data/departure_info_02.xlsx')\n",
    "df_dep11 = pd.read_excel('/Users/martynas/Desktop/Ironhack/Week 9:Selenium/Berlin Scraper/Data/departure_info_03.xlsx')\n",
    "df_dep12 = pd.read_excel('/Users/martynas/Desktop/Ironhack/Week 9:Selenium/Berlin Scraper/Data/departure_info_06.xlsx')\n",
    "df_dep13 = pd.read_excel('/Users/martynas/Desktop/Ironhack/Week 9:Selenium/Berlin Scraper/Data/departure_info_07.xlsx')\n",
    "df_dep14 = pd.read_excel('/Users/martynas/Desktop/Ironhack/Week 9:Selenium/Berlin Scraper/Data/departure_info_08.xlsx')\n",
    "df_dep15 = pd.read_excel('/Users/martynas/Desktop/Ironhack/Week 9:Selenium/Berlin Scraper/Data/departure_info_09.xlsx')\n",
    "df_dep16 = pd.read_excel('/Users/martynas/Desktop/Ironhack/Week 9:Selenium/Berlin Scraper/Data/departure_info_13.xlsx')\n",
    "df_dep17 = pd.read_excel('/Users/martynas/Desktop/Ironhack/Week 9:Selenium/Berlin Scraper/Data/departure_info_14.xlsx')\n",
    "df_dep18 = pd.read_excel('/Users/martynas/Desktop/Ironhack/Week 9:Selenium/Berlin Scraper/Data/departure_info_15.xlsx')\n",
    "df_dep19 = pd.read_excel('/Users/martynas/Desktop/Ironhack/Week 9:Selenium/Berlin Scraper/Data/departure_info_161.xlsx')\n",
    "df_dep20 = pd.read_excel('/Users/martynas/Desktop/Ironhack/Week 9:Selenium/Berlin Scraper/Data/departure_info_171.xlsx')"
   ]
  },
  {
   "cell_type": "code",
   "execution_count": 21,
   "metadata": {},
   "outputs": [],
   "source": [
    "combined_df_dep = pd.concat([df_dep1,df_dep2,df_dep3,df_dep4,df_dep5,df_dep6,df_dep7,df_dep8,df_dep9,df_dep10,df_dep11,df_dep12,df_dep13,df_dep14,df_dep15,df_dep16,df_dep17,df_dep18,df_dep19,df_dep20], ignore_index=True)"
   ]
  },
  {
   "cell_type": "code",
   "execution_count": 23,
   "metadata": {},
   "outputs": [],
   "source": [
    "combined_df_dep['Departure'] = combined_df_dep['Departure'].replace('Berlin Brandenburg Airport', 'Berlin')\n",
    "combined_df_dep[['Date', 'Scheduled Time']] = combined_df_dep['Date and Time'].str.split(' ', expand=True)\n",
    "combined_df_dep[['Date Schedule', 'Actual Departure Time']] = combined_df_dep['Actual Departure'].str.split(' ', expand=True)\n",
    "combined_df_dep.drop(columns=['Date and Time'], inplace=True)\n",
    "combined_df_dep.drop(columns=['Date Schedule'], inplace=True)\n",
    "combined_df_dep.drop(columns=['Actual Departure'], inplace=True)\n",
    "combined_df_dep['Terminal'] = combined_df_dep['Terminal'].str.replace('T', '')\n",
    "combined_df_dep = combined_df_dep[combined_df_dep['Departure'] != '#####']\n",
    "combined_df_dep['Terminal'] = combined_df_dep['Terminal'].astype('Int64')\n",
    "combined_df_dep['Date'] = pd.to_datetime(combined_df_dep['Date'], dayfirst=True)\n",
    "conditions = [(combined_df_dep['Actual Departure Time'].isnull()) | (combined_df_dep['Scheduled Time'] == combined_df_dep['Actual Departure Time']), combined_df_dep['Scheduled Time'] < combined_df_dep['Actual Departure Time'],combined_df_dep['Scheduled Time'] > combined_df_dep['Actual Departure Time']]\n",
    "choices = ['On-Time', 'Delayed', 'Early']\n",
    "combined_df_dep['Status'] = np.select(conditions, choices, default='Unknown')"
   ]
  },
  {
   "cell_type": "code",
   "execution_count": 24,
   "metadata": {
    "scrolled": false
   },
   "outputs": [
    {
     "data": {
      "text/plain": [
       "(5070, 14)"
      ]
     },
     "execution_count": 24,
     "metadata": {},
     "output_type": "execute_result"
    }
   ],
   "source": [
    "combined_df_dep.shape"
   ]
  },
  {
   "cell_type": "code",
   "execution_count": 26,
   "metadata": {},
   "outputs": [],
   "source": [
    "# df.head(10) test\n",
    "\n",
    "# df.dtypes\n",
    "\n",
    "# date is a datetime object, so we need to convert the date to a string, then\n",
    "# concatonate with arrival time and then reconvert back into datetime (which always needs a date before an actual time)\n",
    "\n",
    "combined_df_arr['Date'] = combined_df_arr['Date'].astype(str)\n",
    "\n",
    "combined_df_arr['Scheduled DateTime'] = pd.to_datetime(combined_df_arr['Date'] + ' ' + combined_df_arr['Scheduled Time'])\n",
    "combined_df_arr['Actual Arrival DateTime'] = pd.to_datetime(combined_df_arr['Date'] + ' ' + combined_df_arr['Actual Arrival Time'])\n",
    "\n",
    "# Then we can add it back to the dataframe as a new column:\n",
    "\n",
    "combined_df_arr['Time Difference'] = combined_df_arr['Actual Arrival DateTime'] - combined_df_arr['Scheduled DateTime']"
   ]
  },
  {
   "cell_type": "code",
   "execution_count": 27,
   "metadata": {},
   "outputs": [],
   "source": [
    "#convert the time difference to actual minutes:\n",
    "\n",
    "combined_df_arr['Time Difference (Minutes)'] = (combined_df_arr['Time Difference'].dt.total_seconds() / 60)\n",
    "combined_df_arr['Time Difference (Minutes)'] = combined_df_arr['Time Difference (Minutes)'].fillna(0).round().astype(int)"
   ]
  },
  {
   "cell_type": "code",
   "execution_count": 28,
   "metadata": {},
   "outputs": [],
   "source": [
    "combined_df_arr.drop(columns=['Time Difference'], inplace=True)\n",
    "combined_df_arr.drop(columns=['Actual Arrival DateTime'], inplace=True)\n",
    "combined_df_arr.drop(columns=['Scheduled DateTime'], inplace=True)"
   ]
  },
  {
   "cell_type": "code",
   "execution_count": 30,
   "metadata": {},
   "outputs": [],
   "source": [
    "# df.head(10) test\n",
    "\n",
    "# df.dtypes\n",
    "\n",
    "# date is a datetime object, so we need to convert the date to a string, then\n",
    "# concatonate with arrival time and then reconvert back into datetime (which always needs a date before an actual time)\n",
    "\n",
    "combined_df_dep['Date'] = combined_df_dep['Date'].astype(str)\n",
    "\n",
    "combined_df_dep['Scheduled DateTime'] = pd.to_datetime(combined_df_dep['Date'] + ' ' + combined_df_dep['Scheduled Time'])\n",
    "combined_df_dep['Actual Departure DateTime'] = pd.to_datetime(combined_df_dep['Date'] + ' ' + combined_df_dep['Actual Departure Time'])\n",
    "\n",
    "# Then we can add it back to the dataframe as a new column:\n",
    "\n",
    "combined_df_dep['Time Difference'] = combined_df_dep['Actual Departure DateTime'] - combined_df_dep['Scheduled DateTime']"
   ]
  },
  {
   "cell_type": "code",
   "execution_count": 31,
   "metadata": {},
   "outputs": [],
   "source": [
    "#convert the time difference to actual minutes:\n",
    "\n",
    "combined_df_dep['Time Difference (Minutes)'] = (combined_df_dep['Time Difference'].dt.total_seconds() / 60)\n",
    "combined_df_dep['Time Difference (Minutes)'] = combined_df_dep['Time Difference (Minutes)'].fillna(0).round().astype(int)"
   ]
  },
  {
   "cell_type": "code",
   "execution_count": 32,
   "metadata": {},
   "outputs": [],
   "source": [
    "combined_df_dep.drop(columns=['Time Difference'], inplace=True)\n",
    "combined_df_dep.drop(columns=['Actual Departure DateTime'], inplace=True)\n",
    "combined_df_dep.drop(columns=['Scheduled DateTime'], inplace=True)"
   ]
  },
  {
   "cell_type": "code",
   "execution_count": null,
   "metadata": {},
   "outputs": [],
   "source": [
    "combined_df_arr['Actual Arrival Time'].fillna(combined_df_arr['Scheduled Time'], inplace=True)"
   ]
  },
  {
   "cell_type": "code",
   "execution_count": null,
   "metadata": {},
   "outputs": [],
   "source": [
    "combined_df_dep['Actual Departure Time'].fillna(combined_df_dep['Scheduled Time'], inplace=True)"
   ]
  },
  {
   "cell_type": "markdown",
   "metadata": {},
   "source": [
    "---"
   ]
  },
  {
   "cell_type": "markdown",
   "metadata": {},
   "source": [
    "### Adding daily temperature and wind speed"
   ]
  },
  {
   "cell_type": "code",
   "execution_count": null,
   "metadata": {},
   "outputs": [],
   "source": [
    "data = {\n",
    "    'Date': ['2024-06-16', '2024-06-17', '2024-06-24', '2024-06-25', '2024-06-26', '2024-06-27', '2024-06-28', '2024-06-29', '2024-07-01', '2024-07-02', '2024-07-03', '2024-07-06', '2024-07-07', '2024-07-08', '2024-07-09', '2024-07-13', '2024-07-14', '2024-07-15', '2024-07-16', '2024-07-17'],\n",
    "    'Temperature': [23.8, 22.2, 22.2, 25, 28.8, 27.2, 23.8, 27.2, 17.7, 15, 16, 27.7, 21.1, 25, 28.8, 18.8, 22.7, 27, 25, 22.2],\n",
    "    'Wind Speed': [10.5, 9.8, 5.6, 9.4, 9.2, 7.4, 9.8, 6.5, 6.5, 11, 8.9, 12.5, 10.1, 8.7, 8.1, 10.3, 7.6, 7.8, 8.7, 11]\n",
    "}\n",
    "\n",
    "weather_df = pd.DataFrame(data)\n",
    "\n",
    "weather_df"
   ]
  },
  {
   "cell_type": "code",
   "execution_count": null,
   "metadata": {},
   "outputs": [],
   "source": [
    "combined_df_arr = pd.merge(combined_df_arr, weather_df, on='Date', how='left')"
   ]
  },
  {
   "cell_type": "code",
   "execution_count": null,
   "metadata": {},
   "outputs": [],
   "source": [
    "combined_df_dep = pd.merge(combined_df_dep, weather_df, on='Date', how='left')"
   ]
  },
  {
   "cell_type": "markdown",
   "metadata": {},
   "source": [
    "---"
   ]
  },
  {
   "cell_type": "markdown",
   "metadata": {},
   "source": [
    "### Adding airline category: budget vs premium"
   ]
  },
  {
   "cell_type": "code",
   "execution_count": 53,
   "metadata": {},
   "outputs": [],
   "source": [
    "airline_filter = pd.read_csv('/Users/martynas/Desktop/Ironhack/Week 9:Selenium/Berlin Scraper/airlines_list.csv')"
   ]
  },
  {
   "cell_type": "code",
   "execution_count": null,
   "metadata": {},
   "outputs": [],
   "source": [
    "combined_df_dep = pd.merge(combined_df_dep, airline_filter, on='Airline', how='left')"
   ]
  },
  {
   "cell_type": "code",
   "execution_count": null,
   "metadata": {},
   "outputs": [],
   "source": [
    "combined_df_arr = pd.merge(combined_df_arr, airline_filter, on='Airline', how='left')"
   ]
  },
  {
   "cell_type": "markdown",
   "metadata": {},
   "source": [
    "---"
   ]
  },
  {
   "cell_type": "markdown",
   "metadata": {},
   "source": [
    "### Adding country list"
   ]
  },
  {
   "cell_type": "markdown",
   "metadata": {},
   "source": [
    "#### Departures"
   ]
  },
  {
   "cell_type": "code",
   "execution_count": null,
   "metadata": {},
   "outputs": [],
   "source": [
    "data = {\n",
    "    \"Departure\": [\n",
    "        \"Izmir ADB\", \"Beijing\", \"New York EWR\", \"Chisinau\", \"Doha\", \"Trieste\", \"Geneva\", \"New York JFK\", \n",
    "        \"Marseille\", \"Frankfurt\", \"Munich\", \"Rome FCO\", \"Belgrade\", \"Vienna\", \"Amsterdam\", \"Naples\", \n",
    "        \"Antalya\", \"Paris CDG\", \"Palma de Mallorca\", \"Zurich\", \"Oslo\", \"Milan LIN\", \"Istanbul IST\", \n",
    "        \"Copenhagen\", \"Tel Aviv\", \"Venice\", \"Tallinn\", \"Dublin\", \"Zagreb\", \"Barcelona\", \"Dalaman\", \n",
    "        \"Bolzano\", \"London STN\", \"Manchester\", \"Madrid\", \"Luxembourg\", \"Stockholm ARN\", \"London LHR\", \n",
    "        \"Porto\", \"Warsaw\", \"Baku\", \"Singapore\", \"Athens\", \"Riga\", \"Brussels\", \"Dubrovnik\", \"Toulouse\", \n",
    "        \"Istanbul SAW\", \"London LGW\", \"Reykjavik\", \"Thessaloniki\", \"Paris Orly\", \"Pristina\", \"Catania\", \n",
    "        \"Sofia\", \"Zadar\", \"Lisbon\", \"Helsinki\", \"Valencia\", \"Ibiza\", \"Vilnius\", \"Monastir\", \"Malaga\", \n",
    "        \"Tirana\", \"Birmingham\", \"Castellón de la Plana\", \"Bergen BGO\", \"Cairo\", \"Budapest\", \"Stuttgart\", \n",
    "        \"Milan BGY\", \"Dusseldorf\", \"London LCY\", \"Cologne/Bonn\", \"Basel\", \"Gothenburg GOT\", \"Chania\", \n",
    "        \"Nice\", \"Funchal\", \"Graz\", \"Milan MXP\", \"Glasgow\", \"Rhodos\", \"Corfu\", \"Olbia\", \"Ankara ESB\", \n",
    "        \"Kos\", \"Saarbrücken\", \"Bordeaux\", \"Kaunas\", \"Skopje\", \"Salzburg\", \"Reggio Calabria\", \"Malta\", \n",
    "        \"Edinburgh\", \"Bologna\", \"Bristol\", \"Lyon\", \"Podgorica\", \"Split\", \"Heraklion\", \"London LTN\", \n",
    "        \"Krakow\", \"Hurghada\", \"Tbilisi\", \"Strasbourg\", \"Marsa Alam\", \"Kutaisi\", \"Paphos\", \"Tunis\", \n",
    "        \"Erbil\", \"Marrakech\", \"Bari\", \"Nantes\", \"Alicante\", \"Trondheim\", \"Pisa\", \"Nottingham EMA\", \n",
    "        \"Beirut\", \"Gaziantep\", \"Tivat\", \"Palermo\", \"Faro\", \"Bucharest\", \"Varna\", \"Tenerife\", \"Larnaca\", \n",
    "        \"Gran Canaria\", \"Pula\", \"Verona\", \"Iasi\", \"Bourgas\", \"Rijeka\", \"Samsun Carsamba\", \"Bastia\", \n",
    "        \"Adana\", \"Preveza\", \"Fuerteventura\", \"Bodrum\", \"Yerevan\", \"Djerba\", \"Zakinthos\", \"Diyarbakir\", \n",
    "        \"Rotterdam\", \"Kayseri\", \"Salerno\"\n",
    "    ],\n",
    "    \"Country\": [\n",
    "        \"Turkey\", \"China\", \"USA\", \"Moldova\", \"Qatar\", \"Italy\", \"Switzerland\", \"USA\", \"France\", \n",
    "        \"Germany\", \"Germany\", \"Italy\", \"Serbia\", \"Austria\", \"Netherlands\", \"Italy\", \"Turkey\", \n",
    "        \"France\", \"Spain\", \"Switzerland\", \"Norway\", \"Italy\", \"Turkey\", \"Denmark\", \"Israel\", \n",
    "        \"Italy\", \"Estonia\", \"Ireland\", \"Croatia\", \"Spain\", \"Turkey\", \"Italy\", \"UK\", \"UK\", \"Spain\", \n",
    "        \"Luxembourg\", \"Sweden\", \"UK\", \"Portugal\", \"Poland\", \"Azerbaijan\", \"Singapore\", \"Greece\", \n",
    "        \"Latvia\", \"Belgium\", \"Croatia\", \"France\", \"Turkey\", \"UK\", \"Iceland\", \"Greece\", \"France\", \n",
    "        \"Kosovo\", \"Italy\", \"Bulgaria\", \"Croatia\", \"Portugal\", \"Finland\", \"Spain\", \"Spain\", \"Lithuania\", \n",
    "        \"Tunisia\", \"Spain\", \"Albania\", \"UK\", \"Spain\", \"Norway\", \"Egypt\", \"Hungary\", \"Germany\", \n",
    "        \"Italy\", \"Germany\", \"UK\", \"Germany\", \"Switzerland\", \"Sweden\", \"Greece\", \"France\", \"Portugal\", \n",
    "        \"Austria\", \"Italy\", \"UK\", \"Greece\", \"Greece\", \"Italy\", \"Turkey\", \"Greece\", \"Germany\", \"France\", \n",
    "        \"Lithuania\", \"North Macedonia\", \"Austria\", \"Italy\", \"Malta\", \"UK\", \"Italy\", \"UK\", \"France\", \n",
    "        \"Montenegro\", \"Croatia\", \"Greece\", \"UK\", \"Poland\", \"Egypt\", \"Georgia\", \"France\", \"Egypt\", \n",
    "        \"Georgia\", \"Cyprus\", \"Tunisia\", \"Iraq\", \"Morocco\", \"Italy\", \"France\", \"Spain\", \"Norway\", \n",
    "        \"Italy\", \"UK\", \"Lebanon\", \"Turkey\", \"Montenegro\", \"Italy\", \"Portugal\", \"Romania\", \"Bulgaria\", \n",
    "        \"Spain\", \"Cyprus\", \"Spain\", \"Croatia\", \"Italy\", \"Romania\", \"Bulgaria\", \"Croatia\", \"Turkey\", \n",
    "        \"France\", \"Turkey\", \"Greece\", \"Spain\", \"Turkey\", \"Armenia\", \"Tunisia\", \"Greece\", \"Turkey\", \n",
    "        \"Netherlands\", \"Turkey\", \"Italy\"\n",
    "    ]\n",
    "}\n",
    "\n",
    "# Create the DataFrame\n",
    "arr_df = pd.DataFrame(data)\n",
    "arr_df"
   ]
  },
  {
   "cell_type": "markdown",
   "metadata": {},
   "source": [
    "#### Arrivals"
   ]
  },
  {
   "cell_type": "code",
   "execution_count": null,
   "metadata": {},
   "outputs": [],
   "source": [
    "data = {\n",
    "    \"Destination\": [\n",
    "        'Porto', 'Malaga', 'Ibiza', 'Palma de Mallorca', 'Venice',\n",
    "        'Catania', 'Tel Aviv', 'Amsterdam', 'Monastir', 'Lisbon',\n",
    "        'Thessaloniki', 'Valencia', 'Paris CDG', 'Pristina', 'Dubrovnik',\n",
    "        'Munich', 'Paris Orly', 'Riga', 'Copenhagen', 'Brussels',\n",
    "        'Istanbul IST', 'Luxembourg', 'Vienna', 'Zurich', 'Madrid',\n",
    "        'London LHR', 'Funchal', 'Sofia', 'Frankfurt', 'Izmir ADB',\n",
    "        'Trieste', 'Castellón de la Plana', 'Chisinau', 'Geneva',\n",
    "        'Marseille', 'Rome FCO', 'Belgrade', 'Naples', 'Antalya', 'Oslo',\n",
    "        'Doha', 'New York EWR', 'London LGW', 'Chania', 'New York JFK',\n",
    "        'Dublin', 'Tallinn', 'Barcelona', 'Manchester', 'Rhodos', 'Zagreb',\n",
    "        'Bolzano', 'London STN', 'Stuttgart', 'Dalaman', 'Warsaw',\n",
    "        'Athens', 'Baku', 'Singapore', 'Toulouse', 'Corfu', 'Kos',\n",
    "        'Reykjavik', 'Istanbul SAW', 'Olbia', 'Nice', 'Hurghada',\n",
    "        'Helsinki', 'Ankara ESB', 'Vilnius', 'Milan MXP', 'Gothenburg GOT',\n",
    "        'Beijing', 'Milan LIN', 'Tirana', 'Heraklion', 'Birmingham',\n",
    "        'Bordeaux', 'Cologne/Bonn', 'Bergen BGO', 'Stockholm ARN',\n",
    "        'Budapest', 'Cairo', 'Dusseldorf', 'Milan BGY', 'London LCY',\n",
    "        'Bologna', 'Podgorica', 'Basel', 'Split', 'Salzburg', 'Glasgow',\n",
    "        'Saarbrücken', 'Krakow', 'Tbilisi', 'Kaunas', 'Reggio Calabria',\n",
    "        'Skopje', 'Graz', 'Edinburgh', 'Malta', 'Lyon', 'Bristol',\n",
    "        'London LTN', 'Zadar', 'Strasbourg', 'Bari', 'Paphos',\n",
    "        'Marsa Alam', 'Kutaisi', 'Tunis', 'Marrakech', 'Erbil', 'Beirut',\n",
    "        'Nantes', 'Alicante', 'Trondheim', 'Pisa', 'Nottingham EMA',\n",
    "        'Tivat', 'Diyarbakir', 'Bucharest', 'Varna', 'Gran Canaria',\n",
    "        'Larnaca', 'Palermo', 'Faro', 'Tenerife', 'Pula', 'Bourgas',\n",
    "        'Verona', 'Rijeka', 'Iasi', 'Samsun Carsamba', 'Bastia', 'Adana',\n",
    "        'Fuerteventura', 'Preveza', 'Gaziantep', 'Bodrum', 'Yerevan',\n",
    "        'Zakinthos', 'Djerba', 'Kayseri', 'Rotterdam', 'Berlin', 'Salerno'\n",
    "    ],\n",
    "    \"Country\": [\n",
    "        'Portugal', 'Spain', 'Spain', 'Spain', 'Italy',\n",
    "        'Italy', 'Israel', 'Netherlands', 'Tunisia', 'Portugal',\n",
    "        'Greece', 'Spain', 'France', 'Kosovo', 'Croatia',\n",
    "        'Germany', 'France', 'Latvia', 'Denmark', 'Belgium',\n",
    "        'Turkey', 'Luxembourg', 'Austria', 'Switzerland', 'Spain',\n",
    "        'UK', 'Portugal', 'Bulgaria', 'Germany', 'Turkey',\n",
    "        'Italy', 'Spain', 'Moldova', 'Switzerland',\n",
    "        'France', 'Italy', 'Serbia', 'Italy', 'Turkey', 'Norway',\n",
    "        'Qatar', 'USA', 'UK', 'Greece', 'USA',\n",
    "        'Ireland', 'Estonia', 'Spain', 'UK', 'Greece', 'Croatia',\n",
    "        'Italy', 'UK', 'Germany', 'Turkey', 'Poland',\n",
    "        'Greece', 'Azerbaijan', 'Singapore', 'France', 'Greece',\n",
    "        'Greece', 'Iceland', 'Turkey', 'Italy', 'France', 'Egypt',\n",
    "        'Finland', 'Turkey', 'Lithuania', 'Italy', 'Sweden',\n",
    "        'China', 'Italy', 'Albania', 'Greece', 'UK',\n",
    "        'France', 'Germany', 'Norway', 'Sweden',\n",
    "        'Hungary', 'Egypt', 'Germany', 'Italy', 'UK',\n",
    "        'Italy', 'Montenegro', 'Switzerland', 'Croatia', 'Austria', 'UK',\n",
    "        'Germany', 'Poland', 'Georgia', 'Lithuania', 'Italy',\n",
    "        'North Macedonia', 'Austria', 'UK', 'Malta', 'France', 'UK',\n",
    "        'UK', 'Croatia', 'France', 'Italy', 'Cyprus',\n",
    "        'Egypt', 'Georgia', 'Tunisia', 'Morocco', 'Iraq', 'Lebanon',\n",
    "        'France', 'Spain', 'Norway', 'Italy', 'UK',\n",
    "        'Montenegro', 'Turkey', 'Romania', 'Bulgaria', 'Spain',\n",
    "        'Cyprus', 'Italy', 'Portugal', 'Spain', 'Croatia',\n",
    "        'Bulgaria', 'Italy', 'Croatia', 'Romania', 'Turkey', 'France', \n",
    "        'Turkey', 'Spain', 'Greece', 'Turkey', 'Turkey', \n",
    "        'Armenia', 'Greece', 'Tunisia', 'Turkey', 'Netherlands', \n",
    "        'Germany', 'Italy'\n",
    "    ]\n",
    "}\n",
    "\n",
    "# Create DataFrame\n",
    "dep_df = pd.DataFrame(data)\n",
    "dep_df"
   ]
  },
  {
   "cell_type": "code",
   "execution_count": null,
   "metadata": {},
   "outputs": [],
   "source": [
    "combined_df_arr = pd.merge(combined_df_arr, arr_df, on='Departure', how='left')"
   ]
  },
  {
   "cell_type": "code",
   "execution_count": null,
   "metadata": {},
   "outputs": [],
   "source": [
    "combined_df_dep = pd.merge(combined_df_dep, dep_df, on='Destination', how='left')"
   ]
  },
  {
   "cell_type": "markdown",
   "metadata": {},
   "source": [
    "---"
   ]
  },
  {
   "cell_type": "markdown",
   "metadata": {},
   "source": [
    "## Export and save"
   ]
  },
  {
   "cell_type": "code",
   "execution_count": 17,
   "metadata": {},
   "outputs": [],
   "source": [
    "combined_file = 'arrivals.xlsx'\n",
    "combined_df_arr.to_excel(combined_file, index=False)"
   ]
  },
  {
   "cell_type": "code",
   "execution_count": 5,
   "metadata": {},
   "outputs": [],
   "source": [
    "combined_file = 'departures.xlsx'\n",
    "combined_df_dep.to_excel(combined_file, index=False)"
   ]
  },
  {
   "cell_type": "markdown",
   "metadata": {},
   "source": [
    "---"
   ]
  },
  {
   "cell_type": "code",
   "execution_count": 2,
   "metadata": {},
   "outputs": [],
   "source": [
    "golden_arr = pd.read_excel('/Users/martynas/Desktop/Ironhack/Week 9:Selenium/Berlin Scraper/GOLDEN TABLES/arrivals.xlsx')"
   ]
  },
  {
   "cell_type": "code",
   "execution_count": 2,
   "metadata": {},
   "outputs": [],
   "source": [
    "golden_dep = pd.read_excel('/Users/martynas/Desktop/Ironhack/Week 9:Selenium/Berlin Scraper/GOLDEN TABLES/departures.xlsx')"
   ]
  }
 ],
 "metadata": {
  "colab": {
   "collapsed_sections": [
    "DjHVfaipR9WG",
    "gM6LkxT5R9WH"
   ],
   "provenance": []
  },
  "kernelspec": {
   "display_name": "Python 3 (ipykernel)",
   "language": "python",
   "name": "python3"
  },
  "language_info": {
   "codemirror_mode": {
    "name": "ipython",
    "version": 3
   },
   "file_extension": ".py",
   "mimetype": "text/x-python",
   "name": "python",
   "nbconvert_exporter": "python",
   "pygments_lexer": "ipython3",
   "version": "3.11.5"
  }
 },
 "nbformat": 4,
 "nbformat_minor": 1
}
