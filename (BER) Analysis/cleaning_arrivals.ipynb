{
 "cells": [
  {
   "cell_type": "code",
   "execution_count": null,
   "metadata": {},
   "outputs": [],
   "source": [
    "import pandas as pd\n",
    "import re"
   ]
  },
  {
   "cell_type": "code",
   "execution_count": null,
   "metadata": {},
   "outputs": [],
   "source": [
    "# Importing our files, lets do arrivals first:\n",
    "\n",
    "dep_df = pd.read_excel(\"/Users/alexander/Work/Ironhack/Week12/Project/departures.xlsx\")\n",
    "\n",
    "# dep_df.sample(10)\n",
    "\n",
    "print(dep_df.shape)\n",
    "\n",
    "no_of_recs = dep_df.shape[0]\n",
    "\n",
    "print('we have',  no_of_recs,  'unique flight records')"
   ]
  },
  {
   "cell_type": "code",
   "execution_count": null,
   "metadata": {},
   "outputs": [],
   "source": [
    "# checking and cleaning the data types:\n",
    "\n",
    "dep_df.dtypes\n",
    "\n",
    "# Let's convert actual date time to the correct data type, not sure if this'll hurt later\n",
    "\n",
    "dep_df['Date'] = pd.to_datetime(dep_df['Date'])\n",
    "dep_df['Scheduled Time'] = pd.to_datetime(arr_df['Scheduled Time'], format='%H:%M').dt.time\n",
    "dep_df['Actual Departure Time'] = pd.to_datetime(dep_df['Actual Departure Time'], format='%H:%M', errors='coerce').dt.time\n",
    "\n",
    "dep_df.sample(10)"
   ]
  },
  {
   "cell_type": "code",
   "execution_count": null,
   "metadata": {},
   "outputs": [],
   "source": [
    "# Some weather data is missing, using the mean for now:\n",
    "\n",
    "dep_df['Temperature'].fillna(dep_df['Temperature'].mean(), inplace=True)\n",
    "dep_df['Wind Speed'].fillna(dep_df['Wind Speed'].mean(), inplace=True)"
   ]
  },
  {
   "cell_type": "code",
   "execution_count": null,
   "metadata": {},
   "outputs": [],
   "source": [
    "#Removing any severe outliers - 4949\n",
    "\n",
    "dep_df = dep_df[(dep_df['Time Difference (Minutes)'] > -1000) & (dep_df['Time Difference (Minutes)'] < 1000)]\n",
    "\n",
    "print(dep_df.shape)\n",
    "\n",
    "print('We removed', no_of_recs-dep_df.shape[0], 'flight records')"
   ]
  },
  {
   "cell_type": "code",
   "execution_count": null,
   "metadata": {},
   "outputs": [],
   "source": [
    "# creating a dataframe that captures each row with missing values to see why and what is missing\n",
    "\n",
    "missing_data = dep_df[dep_df.isnull().any(axis=1)]\n",
    "\n",
    "#let's see what unique flight status we have aside from cancelled\n",
    "\n",
    "display(dep_df['Flight Status'].unique())\n",
    "print(missing_data.shape) # 179 rows missing data, they could feasibly all be cancellations\n",
    "\n",
    "# Checking non-cancelled flights\n",
    "non_can_flights = missing_data[missing_data['Flight Status'] != 'Cancelled']\n",
    "print(non_can_flights.shape)\n",
    "\n",
    "\n",
    "#checking cancelled flights\n",
    "\n",
    "can_flights = missing_data[missing_data['Flight Status'] == 'Cancelled']\n",
    "print(can_flights.shape)\n",
    "\n",
    "# we seem to have an error on row 203 - it states cancelled but it clearly arrived.\n",
    "\n",
    "# checking to see if all missing data is just for cancelled flights\n",
    "\n",
    "print('We have', can_flights.shape[0], 'cancelled flights')"
   ]
  },
  {
   "cell_type": "code",
   "execution_count": null,
   "metadata": {},
   "outputs": [],
   "source": [
    "# For now lets create a complete DF with the rows with missing values removed\n",
    "\n",
    "missing_data = dep_df[dep_df.isnull().any(axis=1)]\n",
    "\n",
    "# Get indices of rows with missing data\n",
    "missing_data_indices = missing_data.index\n",
    "\n",
    "# Create a cleaned DF by dropping the rows with missing data\n",
    "clean_dep_df = dep_df.drop(missing_data_indices)\n",
    "\n",
    "print(clean_dep_df.isnull().sum()) # Nice!\n",
    "\n",
    "clean_dep_df.head(20)\n"
   ]
  },
  {
   "cell_type": "code",
   "execution_count": null,
   "metadata": {},
   "outputs": [],
   "source": [
    "# Export cleaned data as a csv\n",
    "clean_dep_df.to_csv('cleaned_arrivals_data.csv', index=False)"
   ]
  },
  {
   "cell_type": "code",
   "execution_count": null,
   "metadata": {},
   "outputs": [],
   "source": []
  }
 ],
 "metadata": {
  "kernelspec": {
   "display_name": "Python 3 (ipykernel)",
   "language": "python",
   "name": "python3"
  },
  "language_info": {
   "codemirror_mode": {
    "name": "ipython",
    "version": 3
   },
   "file_extension": ".py",
   "mimetype": "text/x-python",
   "name": "python",
   "nbconvert_exporter": "python",
   "pygments_lexer": "ipython3",
   "version": "3.11.5"
  }
 },
 "nbformat": 4,
 "nbformat_minor": 2
}
